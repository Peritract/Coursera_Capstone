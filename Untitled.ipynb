{
 "cells": [
  {
   "cell_type": "markdown",
   "metadata": {},
   "source": [
    "# Capstone Project\n",
    "\n",
    "Capstone project for the IBM Data Science Professional Certificate"
   ]
  },
  {
   "cell_type": "markdown",
   "metadata": {},
   "source": [
    "## Introduction\n",
    "\n",
    "London is the most populous city in the UK, as well as a technological, financial, and social hub. As such, there is always a huge number of people looking to move into London, whether for career or other reasons.\n",
    "\n",
    "Due to the high demand, house prices and rents in London are higher than anywhere else in the country. There is fierce competition for living space, and an endless turnover of new arrivals and Londoners jostling for the best places to live.\n",
    "\n",
    "### Problem\n",
    "\n",
    "London is a large city, with many distinct areas, each with their own character and available ameneties. Some of these areas are more suitable or desirable for residents, but newcomers to London have only limited information on the various options. This project is focused on creating accessible visualisations to help these newcomers quickly understand the differences between the various boroughs of London.\n",
    "\n",
    "The guiding question of this project is \"which boroughs of London are the best to live in?\" This is, of course, a subjective question, with the answer heavily depending on the priorities of the questioner, but any individual's answer can only be improved by access to more information in an easily-understandable way.\n",
    "\n",
    "### Intended audience\n",
    "\n",
    "This project is intended to benefit newcomers to London - people from outside the UK or simply elsewhere in the country who are looking to move into the capital. Being able to see, in an immediate and visual manner, key information about different areas of London would enable these people to make more informed and data-driven decisions about where to look for places to rent/buy. "
   ]
  },
  {
   "cell_type": "markdown",
   "metadata": {},
   "source": [
    "## Data"
   ]
  },
  {
   "cell_type": "markdown",
   "metadata": {},
   "source": [
    "The data used during this project will come from several sources:\n",
    "    \n",
    "## The GLA's [London Borough Profiles](https://data.london.gov.uk/dataset/london-borough-profiles)\n",
    "\n",
    "This dataset contains key indicators on a variety of topics for each London borough. The data includes information on the unemployment rate, election results, and home ownership, along with many other factors. Data from this source will form the majority of the information used in this project, but there are some missing or out-of-date columns (such as average income) in the dataset.\n",
    "\n",
    "## HMRC's dataset on [the average income of tax payers in London Boroughs](https://data.london.gov.uk/dataset/average-income-tax-payers-borough)\n",
    "\n",
    "This dataset contains information about the average income of tax payers in each London borough, collected between 1999 and 2017. This data can be combined with the Borough Profiles dataset in order to give more complete and up-to-date information on each borough.\n",
    "\n",
    "## [GeoJSON for London Boroughs](https://github.com/radoi90/housequest-data/blob/master/london_boroughs.geojson)\n",
    "\n",
    "In order to visualise information about London Boroughs, it's necessary to have detailed information on the boundaries between each one. This data was provided on GitHub by [Emil Culic](https://github.com/radoi90).\n",
    "\n",
    "## The [Foursquare API](https://developer.foursquare.com/docs)\n",
    "\n",
    "This API allows the retrieval of information about social and commerical venues, such as restaurants, in particular areas. This will be used to add more information to overall figures about each borough.\n",
    "\n",
    "## Data collation\n",
    "\n",
    "All of the data sources listed above will need significant cleaning and shaping to be usd together for the purposes of this project. This processing will be described in the methodology section. \n",
    "\n",
    "## Data intentions\n",
    "\n",
    "Once the data has been cleaned and processed, it will be collated together in order to give a high-level overview of the differences between London Boroughs. This overview will be represented on various maps, so that people looking to rent in London can quickly see the diffe"
   ]
  },
  {
   "cell_type": "code",
   "execution_count": null,
   "metadata": {},
   "outputs": [],
   "source": []
  }
 ],
 "metadata": {
  "kernelspec": {
   "display_name": "Python 3",
   "language": "python",
   "name": "python3"
  },
  "language_info": {
   "codemirror_mode": {
    "name": "ipython",
    "version": 3
   },
   "file_extension": ".py",
   "mimetype": "text/x-python",
   "name": "python",
   "nbconvert_exporter": "python",
   "pygments_lexer": "ipython3",
   "version": "3.7.5"
  }
 },
 "nbformat": 4,
 "nbformat_minor": 2
}
